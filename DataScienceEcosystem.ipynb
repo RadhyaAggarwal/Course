{
  "nbformat": 4,
  "nbformat_minor": 0,
  "metadata": {
    "colab": {
      "provenance": []
    },
    "kernelspec": {
      "name": "python3",
      "display_name": "Python 3"
    },
    "language_info": {
      "name": "python"
    }
  },
  "cells": [
    {
      "cell_type": "markdown",
      "source": [
        "#Data Science Tools and Ecosystem"
      ],
      "metadata": {
        "id": "FzsHwUy8pMP7"
      }
    },
    {
      "cell_type": "markdown",
      "source": [
        "In this notebook, Data Science Tools and Ecosystem are summarized."
      ],
      "metadata": {
        "id": "wdeaidztp_om"
      }
    },
    {
      "cell_type": "markdown",
      "source": [
        "**Objectives:**\n",
        "\n",
        "\n",
        "*   List popular languages for Data Science\n",
        "*   List commonly used libraries\n",
        "*   List development environment open source tools used in data science\n",
        "*   Evaluating arithmetic expressions in Python\n",
        "\n"
      ],
      "metadata": {
        "id": "WWQjbxm2wVS1"
      }
    },
    {
      "cell_type": "markdown",
      "source": [
        "Some of the popular languages that Data Scientists use are:\n",
        "\n",
        "\n",
        "1.   Python\n",
        "2.   R\n",
        "3.   SQL\n",
        "4.   Julia\n",
        "\n"
      ],
      "metadata": {
        "id": "hl5i1Hxeqdu0"
      }
    },
    {
      "cell_type": "markdown",
      "source": [
        "Some of the commonly used libraries used by Data Scientists include:\n",
        "\n",
        "\n",
        "1.   NumPy\n",
        "2.   Pandas\n",
        "3.   TensorFlow\n",
        "4.   Matplotlib\n",
        "\n"
      ],
      "metadata": {
        "id": "GtXNS9BkrIgN"
      }
    },
    {
      "cell_type": "markdown",
      "source": [
        "|Data Science Tools|\n",
        "|------------------|\n",
        "|Jupyter Notebook|\n",
        "|RStudio|\n",
        "|Watson Studio|"
      ],
      "metadata": {
        "id": "uWks446mrwPs"
      }
    },
    {
      "cell_type": "markdown",
      "source": [
        "###Below are a few examples of evaluating arithmetic expressions in Python"
      ],
      "metadata": {
        "id": "CA3sfEu_sqWg"
      }
    },
    {
      "cell_type": "code",
      "source": [
        "#This a simple arithmetic expression to mutiply then add integers\n",
        "(3*4)+5"
      ],
      "metadata": {
        "colab": {
          "base_uri": "https://localhost:8080/"
        },
        "id": "khu1AjbKpVRE",
        "outputId": "ca633307-4ec4-4a80-98d6-303995d012bd"
      },
      "execution_count": null,
      "outputs": [
        {
          "output_type": "execute_result",
          "data": {
            "text/plain": [
              "17"
            ]
          },
          "metadata": {},
          "execution_count": 1
        }
      ]
    },
    {
      "cell_type": "code",
      "source": [
        "#This will convert 200 minutes to hours by diving by 60\n",
        "float(200/60)"
      ],
      "metadata": {
        "colab": {
          "base_uri": "https://localhost:8080/"
        },
        "id": "QaMPjTDIv4rU",
        "outputId": "43d4426a-ddd8-4d2c-8f96-01a81e387ddd"
      },
      "execution_count": null,
      "outputs": [
        {
          "output_type": "execute_result",
          "data": {
            "text/plain": [
              "3.3333333333333335"
            ]
          },
          "metadata": {},
          "execution_count": 2
        }
      ]
    },
    {
      "cell_type": "markdown",
      "source": [
        "##Author\n",
        "Radhya Aggarwal"
      ],
      "metadata": {
        "id": "HLpcvwBMxJYB"
      }
    }
  ]
}